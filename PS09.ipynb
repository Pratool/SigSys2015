{
 "metadata": {
  "name": "",
  "signature": "sha256:9de50b46d2f8debdd5f10eab1b4121c606db3f0ceef6426274d6b5477750a2a9"
 },
 "nbformat": 3,
 "nbformat_minor": 0,
 "worksheets": [
  {
   "cells": [
    {
     "cell_type": "markdown",
     "metadata": {},
     "source": [
      "Transmitter"
     ]
    },
    {
     "cell_type": "code",
     "collapsed": false,
     "input": [
      "import numpy as np\n",
      "import pyaudio\n",
      "from array import array\n",
      "import matplotlib.pyplot as mplib\n",
      "\n",
      "# This function converts a string into a numpy array of bits\n",
      "# note that it is assumed that each character is 7 bits long here\n",
      "def string2NPArray(s):\n",
      "    bits = np.array([])\n",
      "    for a in bytearray(s, 'ascii'):\n",
      "        for b in range(0,7):\n",
      "            bits = np.append(bits,float((a>>(7-b-1))&1))\n",
      "    return bits\n",
      "\n",
      "# This function converts a numpy array of bits to a string\n",
      "# note that it is assumed that each character is 7 bits long here\n",
      "def NPbits2String(bits):\n",
      "    S = \"\"\n",
      "    for a in np.arange(0, np.ceil(len(bits)/7)):\n",
      "        tmp = 0\n",
      "        for k in np.arange(0,7):\n",
      "            b = bits[a*7+k]\n",
      "            tmp = tmp + (2**(6-k))*b\n",
      "        S = S + chr(int(tmp))\n",
      "    return S"
     ],
     "language": "python",
     "metadata": {},
     "outputs": [],
     "prompt_number": 16
    },
    {
     "cell_type": "code",
     "collapsed": false,
     "input": [
      "def find_start_and_end(xf, threshold = 2000): \n",
      "    import numpy as np    \n",
      "    start_idx = -1\n",
      " \n",
      "    for k in range(0, len(xf)):\n",
      "        if(np.abs(xf[k])) > threshold:\n",
      "            start_idx = k\n",
      "            break\n",
      "\n",
      "    if(start_idx  < 0):\n",
      "        print \"Unable to detect start of transmission\"\n",
      "        return -1\n",
      "    \n",
      "    end_idx = -1\n",
      "    \n",
      "    for k in range(0, len(xf)):\n",
      "        if(np.abs(xf[len(xf)-k-1])) > threshold:\n",
      "            end_idx = len(xf)-k-1\n",
      "            break\n",
      "\n",
      "    if(end_idx < 0):\n",
      "        print \"Unable to detect end of transmission\"\n",
      "        return -1\n",
      "\n",
      "    return start_idx, end_idx"
     ],
     "language": "python",
     "metadata": {},
     "outputs": [],
     "prompt_number": 17
    },
    {
     "cell_type": "code",
     "collapsed": false,
     "input": [
      "# this function gets samples from the microphone\n",
      "# it waits until there are samples greater than threshold\n",
      "# and keeps collecting samples until there is a block of chunk_size samples\n",
      "# without a single sample over threshold\n",
      "def get_samples_from_mic(sample_rate = 8000, threshold = 1000, chunk_size = 1000):\n",
      "\n",
      "    import numpy as np\n",
      "    \n",
      "    # initialize pyaudio object\n",
      "    p = pyaudio.PyAudio()\n",
      "    stream = p.open(format=pyaudio.paInt16, channels=1, rate=sample_rate,\n",
      "            input=True, output=False,\n",
      "            frames_per_buffer=chunk_size)\n",
      "\n",
      "    \n",
      "    def is_silent(snd_data, th):\n",
      "    #\"Returns 'True' if below the 'silent' threshold\"\n",
      "        return max(snd_data) < th\n",
      "\n",
      "\n",
      "# initialize an array to store the data\n",
      "    data_vec = array('h')\n",
      "    \n",
      "# wait until we hear something\n",
      "    while 1:\n",
      "        # read a chunk of samples from the mic\n",
      "        data = stream.read(chunk_size)\n",
      "        # convert the data into an array of int16s\n",
      "        snd_data = array('h', data)\n",
      "        # if no longer silent break out of detection loop\n",
      "        if not is_silent(snd_data, threshold):\n",
      "            break\n",
      "\n",
      "# append the sound data from the previous chunk into the array             \n",
      "    data_vec.extend(snd_data)\n",
      "    \n",
      "# collect samples until we get a silent block\n",
      "    while 1:\n",
      "        # read a chunk of data\n",
      "        data = stream.read(chunk_size)\n",
      "        snd_data = array('h', data)\n",
      "        # stick the chunk of samples at the end of the vector that stores\n",
      "        # the samples\n",
      "        data_vec.extend(snd_data)     \n",
      "        # if silent break out of loop\n",
      "        if is_silent(snd_data, threshold):\n",
      "            break\n",
      "            \n",
      "# convert to a numpy array   \n",
      "# we don't use a numpy array directly because it's slower than\n",
      "# array \n",
      "    x = np.frombuffer(data_vec, dtype= np.dtype('int16'))    \n",
      "    \n",
      "# close the pyaudio stream     \n",
      "    stream.stop_stream()\n",
      "    stream.close()\n",
      "    p.terminate()\n",
      "\n",
      "# return the data samples    \n",
      "    return x  "
     ],
     "language": "python",
     "metadata": {},
     "outputs": [],
     "prompt_number": 57
    },
    {
     "cell_type": "code",
     "collapsed": false,
     "input": [
      "# this function plays samples through the speaker\n",
      "# at sample rate of rate\n",
      "def play_samples(x, rate=8000, chunk_size = 1000):\n",
      "   \n",
      "    p = pyaudio.PyAudio()\n",
      "    stream = p.open(format= pyaudio.paInt16, channels=1, rate=rate,\n",
      "        input=False, output=True,\n",
      "        frames_per_buffer=len(x))\n",
      "    stream.write(x.astype(np.int16).tostring())\n",
      "    stream.stop_stream()\n",
      "    stream.close()\n",
      "    p.terminate()"
     ],
     "language": "python",
     "metadata": {},
     "outputs": [],
     "prompt_number": 58
    },
    {
     "cell_type": "code",
     "collapsed": false,
     "input": [
      "def gen_bpsk_sig(nbits, rate=8820, symbol_len=250, freq=1000):\n",
      "    #bits = np.hstack((np.zeros(5),1,nbits))\n",
      "    bits = nbits\n",
      "    ext = np.array(np.hstack([np.ones(250) * bit for bit in bits]))\n",
      "    ext = (ext - .5)*2\n",
      "    ext = np.hstack((np.zeros(7*symbol_len),1,ext,np.zeros(7*symbol_len)))\n",
      "    \n",
      "    ts = np.arange(0, len(ext)/float(rate), 1.0/float(rate))\n",
      "    \n",
      "    return np.cos(2*np.pi*freq*ts) * 8500 * ext"
     ],
     "language": "python",
     "metadata": {},
     "outputs": [],
     "prompt_number": 307
    },
    {
     "cell_type": "code",
     "collapsed": false,
     "input": [
      "def decode_bpsk_sig(sig, rate=8820, symbol_len=250, freq=1000):\n",
      "    ts = np.arange(0, len(sig)/float(rate), 1/float(rate))\n",
      "    w_c = 150 * np.pi * 2\n",
      "    \n",
      "    LPF = (1/np.pi) * np.sinc(w_c*ts/np.pi)\n",
      "    \n",
      "    sigs = []\n",
      "    for phi in np.linspace(-np.pi/2.0, np.pi/2.0, 16):\n",
      "        sigs.append(sig*np.cos(2*np.pi*freq*ts + phi))\n",
      "    \n",
      "    sig1 = sigs[np.argmax(np.array([np.max(abs(each_sig)) for each_sig in sigs]))]\n",
      "    \n",
      "    #sig1 = sig*np.cos(2*np.pi*freq*ts + phi)\n",
      "    \n",
      "    sig2 = np.convolve(sig1, LPF)\n",
      "    \n",
      "    start, end = find_start_and_end(sig2)\n",
      "    sig3 = sig2[start:end]\n",
      "    \n",
      "    sig4 = sig3>0\n",
      "    bit01 = int(sig4[0]/2.0 + 0.5)\n",
      "    inv_bit01 = 1-bit01\n",
      "    print inv_bit01\n",
      "    \n",
      "    sig5 = [sig4[symbol_len*i+int(0.1*symbol_len)] for i in range(len(sig4)/symbol_len)]\n",
      "    sig5 = [1 if i else 0 for i in sig5]\n",
      "    sig5 = np.array(sig5)\n",
      "    \n",
      "    sig5 = (sig5+inv_bit01)%2\n",
      "    \n",
      "    return sig5"
     ],
     "language": "python",
     "metadata": {},
     "outputs": [],
     "prompt_number": 280
    },
    {
     "cell_type": "code",
     "collapsed": false,
     "input": [
      "def play_samples(x, rate=8000, chunk_size = 1000):\n",
      "    p = pyaudio.PyAudio()\n",
      "    stream = p.open(format= pyaudio.paInt16, channels=1, rate=rate,\n",
      "        input=False, output=True,\n",
      "        frames_per_buffer=len(x))\n",
      "    stream.write(x.astype(np.int16).tostring())\n",
      "    stream.stop_stream()\n",
      "    stream.close()\n",
      "    p.terminate()"
     ],
     "language": "python",
     "metadata": {},
     "outputs": [],
     "prompt_number": 281
    },
    {
     "cell_type": "code",
     "collapsed": false,
     "input": [
      "bits = string2NPArray('Hello')\n",
      "old_x = gen_bpsk_sig(bits)"
     ],
     "language": "python",
     "metadata": {},
     "outputs": [],
     "prompt_number": 282
    },
    {
     "cell_type": "code",
     "collapsed": false,
     "input": [
      "y = decode_bpsk_sig(old_x)"
     ],
     "language": "python",
     "metadata": {},
     "outputs": [
      {
       "output_type": "stream",
       "stream": "stdout",
       "text": [
        "0\n"
       ]
      }
     ],
     "prompt_number": 283
    },
    {
     "cell_type": "code",
     "collapsed": false,
     "input": [
      "print NPbits2String(y.astype(int));"
     ],
     "language": "python",
     "metadata": {},
     "outputs": [
      {
       "output_type": "stream",
       "stream": "stdout",
       "text": [
        "Hello\n"
       ]
      }
     ],
     "prompt_number": 284
    },
    {
     "cell_type": "code",
     "collapsed": false,
     "input": [
      "play_samples(old_x, rate=8820, chunk_size = 1000)"
     ],
     "language": "python",
     "metadata": {},
     "outputs": [],
     "prompt_number": 285
    },
    {
     "cell_type": "markdown",
     "metadata": {},
     "source": [
      "Before running the next box, please face the laptop (or sound playing device) toward the microphone of the laptop."
     ]
    },
    {
     "cell_type": "code",
     "collapsed": false,
     "input": [
      "import bpsk\n",
      "\n",
      "# get samples from the mic\n",
      "x = get_samples_from_mic(sample_rate = 8820, threshold = 7000, chunk_size = 1000)\n",
      "\n",
      "# decode received signal into a numpy array of bits\n",
      "bits = decode_bpsk_sig(x, freq=210000, rate = 8820, symbol_len = 250)\n",
      "\n",
      "# convert the numpy array of bits into a string\n",
      "bit_string = NPbits2String(bits)\n",
      "\n",
      "# print the decoded string\n",
      "print bit_string"
     ],
     "language": "python",
     "metadata": {},
     "outputs": [
      {
       "output_type": "stream",
       "stream": "stdout",
       "text": [
        "1\n",
        "Hello?\n"
       ]
      }
     ],
     "prompt_number": 310
    },
    {
     "cell_type": "code",
     "collapsed": false,
     "input": [
      "#mplib.plot(x)\n",
      "#mplib.show()"
     ],
     "language": "python",
     "metadata": {},
     "outputs": [],
     "prompt_number": 291
    }
   ],
   "metadata": {}
  }
 ]
}