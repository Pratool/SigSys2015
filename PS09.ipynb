{
 "metadata": {
  "name": "",
  "signature": "sha256:34d0e97f9c70ff5343e532dbfcdbb452b8f1f0813d5f1f6773b00d4e8b406f83"
 },
 "nbformat": 3,
 "nbformat_minor": 0,
 "worksheets": [
  {
   "cells": [
    {
     "cell_type": "markdown",
     "metadata": {},
     "source": [
      "Transmitter"
     ]
    },
    {
     "cell_type": "code",
     "collapsed": false,
     "input": [
      "import numpy as np\n",
      "import pyaudio\n",
      "from array import array\n",
      "import matplotlib.pyplot as mplib\n",
      "\n",
      "# This function converts a string into a numpy array of bits\n",
      "# note that it is assumed that each character is 7 bits long here\n",
      "def string2NPArray(s):\n",
      "    bits = np.array([])\n",
      "    for a in bytearray(s, 'ascii'):\n",
      "        for b in range(0,7):\n",
      "            bits = np.append(bits,float((a>>(7-b-1))&1))\n",
      "    return bits\n",
      "\n",
      "# This function converts a numpy array of bits to a string\n",
      "# note that it is assumed that each character is 7 bits long here\n",
      "def NPbits2String(bits):\n",
      "    S = \"\"\n",
      "    for a in np.arange(0, np.ceil(len(bits)/7)):\n",
      "        tmp = 0\n",
      "        for k in np.arange(0,7):\n",
      "            b = bits[a*7+k]\n",
      "            tmp = tmp + (2**(6-k))*b\n",
      "        S = S + chr(int(tmp))\n",
      "    return S"
     ],
     "language": "python",
     "metadata": {},
     "outputs": [],
     "prompt_number": 315
    },
    {
     "cell_type": "code",
     "collapsed": false,
     "input": [
      "# this function plays samples through the speaker\n",
      "# at sample rate of rate\n",
      "def play_samples(x, rate=8000, chunk_size = 1000):\n",
      "   \n",
      "    p = pyaudio.PyAudio()\n",
      "    stream = p.open(format= pyaudio.paInt16, channels=1, rate=rate,\n",
      "        input=False, output=True,\n",
      "        frames_per_buffer=len(x))\n",
      "    stream.write(x.astype(np.int16).tostring())\n",
      "    stream.stop_stream()\n",
      "    stream.close()\n",
      "    p.terminate()"
     ],
     "language": "python",
     "metadata": {},
     "outputs": [],
     "prompt_number": 4
    },
    {
     "cell_type": "code",
     "collapsed": false,
     "input": [
      "def gen_bpsk_sig(nbits, rate=8820, symbol_len=250, freq=1000):\n",
      "    #bits = np.hstack((np.zeros(5),1,nbits))\n",
      "    bits = nbits\n",
      "    ext = np.array(np.hstack([np.ones(250) * bit for bit in bits]))\n",
      "    ext = (ext - .5)*2\n",
      "    ext = np.hstack((np.zeros(7*symbol_len),1,ext,np.zeros(7*symbol_len)))\n",
      "    \n",
      "    #ts = np.arange(len(ext))\n",
      "    ts = np.arange(0, len(x)/float(rate), 1/float(rate))\n",
      "    \n",
      "    return np.cos(2*np.pi*freq*ts) * 8500 * ext"
     ],
     "language": "python",
     "metadata": {},
     "outputs": [],
     "prompt_number": 156
    },
    {
     "cell_type": "code",
     "collapsed": false,
     "input": [
      "def decode_bpsk_sig(sig, rate=8820, symbol_len=250, freq=1000):\n",
      "    #symbol_len -= 10\n",
      "    ts = np.arange(0, len(x)/float(rate), 1/float(rate))\n",
      "    w_c = 1000 * np.pi * 2\n",
      "    #LPF = np.sinc(ts/np.pi*w_c*2*np.pi)\n",
      "    LPF = (1/np.pi) * np.sinc(w_c*ts/np.pi)\n",
      "    sig1 = sig*np.cos(2*np.pi*freq*ts)\n",
      "    sig2 = np.convolve(sig1, LPF)\n",
      "    \n",
      "    max_val = np.amax(abs(sig2))\n",
      "    sig3 = sig2[abs(sig2) > 0.01*max_val]\n",
      "    sig4 = sig3>0\n",
      "    sig5 = [sig4[symbol_len*i+int(0.1*symbol_len)] for i in range(len(sig4)/symbol_len)]\n",
      "    sig5 = [1 if i else 0 for i in sig5]\n",
      "    return sig5"
     ],
     "language": "python",
     "metadata": {},
     "outputs": [],
     "prompt_number": 310
    },
    {
     "cell_type": "code",
     "collapsed": false,
     "input": [
      "bits = string2NPArray('Hello')\n",
      "x = gen_bpsk_sig(bits, rate)\n",
      "ts = np.arange(0, len(x)/float(rate), 1/float(rate))\n",
      "#play_samples(x, rate=8820, chunk_size = 1000)\n",
      "mplib.plot(ts, x)\n",
      "mplib.show()"
     ],
     "language": "python",
     "metadata": {},
     "outputs": [],
     "prompt_number": 311
    },
    {
     "cell_type": "code",
     "collapsed": false,
     "input": [
      "y = decode_bpsk_sig(x)\n",
      "ts = np.arange(0, len(y)/float(rate), 1/float(rate))\n",
      "mplib.plot(ts, y)\n",
      "mplib.show()"
     ],
     "language": "python",
     "metadata": {},
     "outputs": [],
     "prompt_number": 312
    },
    {
     "cell_type": "code",
     "collapsed": false,
     "input": [
      "print NPbits2String(y);"
     ],
     "language": "python",
     "metadata": {},
     "outputs": [
      {
       "ename": "AttributeError",
       "evalue": "'list' object has no attribute 'shape'",
       "output_type": "pyerr",
       "traceback": [
        "\u001b[1;31m---------------------------------------------------------------------------\u001b[0m\n\u001b[1;31mAttributeError\u001b[0m                            Traceback (most recent call last)",
        "\u001b[1;32m<ipython-input-319-9adb763091cd>\u001b[0m in \u001b[0;36m<module>\u001b[1;34m()\u001b[0m\n\u001b[1;32m----> 1\u001b[1;33m \u001b[1;32mprint\u001b[0m \u001b[0mNPbits2String\u001b[0m\u001b[1;33m(\u001b[0m\u001b[0mnp\u001b[0m\u001b[1;33m.\u001b[0m\u001b[0marray2string\u001b[0m\u001b[1;33m(\u001b[0m\u001b[0my\u001b[0m\u001b[1;33m)\u001b[0m\u001b[1;33m.\u001b[0m\u001b[0mto_list\u001b[0m\u001b[1;33m(\u001b[0m\u001b[1;33m)\u001b[0m\u001b[1;33m)\u001b[0m\u001b[1;33m\u001b[0m\u001b[0m\n\u001b[0m",
        "\u001b[1;32mC:\\Users\\pgadtaula\\AppData\\Local\\Continuum\\Anaconda\\lib\\site-packages\\numpy\\core\\arrayprint.pyc\u001b[0m in \u001b[0;36marray2string\u001b[1;34m(a, max_line_width, precision, suppress_small, separator, prefix, style, formatter)\u001b[0m\n\u001b[0;32m    434\u001b[0m     \"\"\"\n\u001b[0;32m    435\u001b[0m \u001b[1;33m\u001b[0m\u001b[0m\n\u001b[1;32m--> 436\u001b[1;33m     \u001b[1;32mif\u001b[0m \u001b[0ma\u001b[0m\u001b[1;33m.\u001b[0m\u001b[0mshape\u001b[0m \u001b[1;33m==\u001b[0m \u001b[1;33m(\u001b[0m\u001b[1;33m)\u001b[0m\u001b[1;33m:\u001b[0m\u001b[1;33m\u001b[0m\u001b[0m\n\u001b[0m\u001b[0;32m    437\u001b[0m         \u001b[0mx\u001b[0m \u001b[1;33m=\u001b[0m \u001b[0ma\u001b[0m\u001b[1;33m.\u001b[0m\u001b[0mitem\u001b[0m\u001b[1;33m(\u001b[0m\u001b[1;33m)\u001b[0m\u001b[1;33m\u001b[0m\u001b[0m\n\u001b[0;32m    438\u001b[0m         \u001b[1;32mtry\u001b[0m\u001b[1;33m:\u001b[0m\u001b[1;33m\u001b[0m\u001b[0m\n",
        "\u001b[1;31mAttributeError\u001b[0m: 'list' object has no attribute 'shape'"
       ]
      }
     ],
     "prompt_number": 319
    },
    {
     "cell_type": "code",
     "collapsed": false,
     "input": [],
     "language": "python",
     "metadata": {},
     "outputs": []
    }
   ],
   "metadata": {}
  }
 ]
}