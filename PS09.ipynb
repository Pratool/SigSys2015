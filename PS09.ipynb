{
 "metadata": {
  "name": "",
  "signature": "sha256:4388d6eae9c8446746c1cc9700f652abb5cb9a6965d20b642f9393d02a78355c"
 },
 "nbformat": 3,
 "nbformat_minor": 0,
 "worksheets": [
  {
   "cells": [
    {
     "cell_type": "markdown",
     "metadata": {},
     "source": [
      "Problem Set 9\n",
      "\n",
      "Subhash Gubba\n",
      "\n",
      "Pratool Gadtaula"
     ]
    },
    {
     "cell_type": "code",
     "collapsed": false,
     "input": [
      "%matplotlib inline\n",
      "import numpy as np\n",
      "import pyaudio\n",
      "from array import array\n",
      "import matplotlib.pyplot as mplib\n",
      "\n",
      "# This function converts a string into a numpy array of bits\n",
      "# note that it is assumed that each character is 7 bits long here\n",
      "def string2NPArray(s):\n",
      "    bits = np.array([])\n",
      "    for a in bytearray(s, 'ascii'):\n",
      "        for b in range(0,7):\n",
      "            bits = np.append(bits,float((a>>(7-b-1))&1))\n",
      "    return bits\n",
      "\n",
      "# This function converts a numpy array of bits to a string\n",
      "# note that it is assumed that each character is 7 bits long here\n",
      "def NPbits2String(bits):\n",
      "    S = \"\"\n",
      "    for a in np.arange(0, np.ceil(len(bits)/7)):\n",
      "        tmp = 0\n",
      "        for k in np.arange(0,7):\n",
      "            b = bits[a*7+k]\n",
      "            tmp = tmp + (2**(6-k))*b\n",
      "        S = S + chr(int(tmp))\n",
      "    return S"
     ],
     "language": "python",
     "metadata": {},
     "outputs": [],
     "prompt_number": 1
    },
    {
     "cell_type": "code",
     "collapsed": false,
     "input": [
      "def find_start_and_end(xf, threshold = 2000): \n",
      "    import numpy as np    \n",
      "    start_idx = -1\n",
      " \n",
      "    for k in range(0, len(xf)):\n",
      "        if(np.abs(xf[k])) > threshold:\n",
      "            start_idx = k\n",
      "            break\n",
      "\n",
      "    if(start_idx  < 0):\n",
      "        print \"Unable to detect start of transmission\"\n",
      "        return -1\n",
      "    \n",
      "    end_idx = -1\n",
      "    \n",
      "    for k in range(0, len(xf)):\n",
      "        if(np.abs(xf[len(xf)-k-1])) > threshold:\n",
      "            end_idx = len(xf)-k-1\n",
      "            break\n",
      "\n",
      "    if(end_idx < 0):\n",
      "        print \"Unable to detect end of transmission\"\n",
      "        return -1\n",
      "\n",
      "    return start_idx, end_idx"
     ],
     "language": "python",
     "metadata": {},
     "outputs": [],
     "prompt_number": 2
    },
    {
     "cell_type": "code",
     "collapsed": false,
     "input": [
      "# this function gets samples from the microphone\n",
      "# it waits until there are samples greater than threshold\n",
      "# and keeps collecting samples until there is a block of chunk_size samples\n",
      "# without a single sample over threshold\n",
      "def get_samples_from_mic(sample_rate = 8000, threshold = 1000, chunk_size = 1000):\n",
      "\n",
      "    import numpy as np\n",
      "    \n",
      "    # initialize pyaudio object\n",
      "    p = pyaudio.PyAudio()\n",
      "    stream = p.open(format=pyaudio.paInt16, channels=1, rate=sample_rate,\n",
      "            input=True, output=False,\n",
      "            frames_per_buffer=chunk_size)\n",
      "\n",
      "    \n",
      "    def is_silent(snd_data, th):\n",
      "    #\"Returns 'True' if below the 'silent' threshold\"\n",
      "        return max(snd_data) < th\n",
      "\n",
      "\n",
      "# initialize an array to store the data\n",
      "    data_vec = array('h')\n",
      "    \n",
      "# wait until we hear something\n",
      "    while 1:\n",
      "        # read a chunk of samples from the mic\n",
      "        data = stream.read(chunk_size)\n",
      "        # convert the data into an array of int16s\n",
      "        snd_data = array('h', data)\n",
      "        # if no longer silent break out of detection loop\n",
      "        if not is_silent(snd_data, threshold):\n",
      "            break\n",
      "\n",
      "# append the sound data from the previous chunk into the array             \n",
      "    data_vec.extend(snd_data)\n",
      "    \n",
      "# collect samples until we get a silent block\n",
      "    while 1:\n",
      "        # read a chunk of data\n",
      "        data = stream.read(chunk_size)\n",
      "        snd_data = array('h', data)\n",
      "        # stick the chunk of samples at the end of the vector that stores\n",
      "        # the samples\n",
      "        data_vec.extend(snd_data)     \n",
      "        # if silent break out of loop\n",
      "        if is_silent(snd_data, threshold):\n",
      "            break\n",
      "            \n",
      "# convert to a numpy array   \n",
      "# we don't use a numpy array directly because it's slower than\n",
      "# array \n",
      "    x = np.frombuffer(data_vec, dtype= np.dtype('int16'))    \n",
      "    \n",
      "# close the pyaudio stream     \n",
      "    stream.stop_stream()\n",
      "    stream.close()\n",
      "    p.terminate()\n",
      "\n",
      "# return the data samples    \n",
      "    return x  "
     ],
     "language": "python",
     "metadata": {},
     "outputs": [],
     "prompt_number": 3
    },
    {
     "cell_type": "code",
     "collapsed": false,
     "input": [
      "# this function plays samples through the speaker\n",
      "# at sample rate of rate\n",
      "def play_samples(x, rate=8000, chunk_size = 1000):\n",
      "   \n",
      "    p = pyaudio.PyAudio()\n",
      "    stream = p.open(format= pyaudio.paInt16, channels=1, rate=rate,\n",
      "        input=False, output=True,\n",
      "        frames_per_buffer=len(x))\n",
      "    stream.write(x.astype(np.int16).tostring())\n",
      "    stream.stop_stream()\n",
      "    stream.close()\n",
      "    p.terminate()"
     ],
     "language": "python",
     "metadata": {},
     "outputs": [],
     "prompt_number": 4
    },
    {
     "cell_type": "code",
     "collapsed": false,
     "input": [
      "def gen_bpsk_sig(nbits, rate=8820, symbol_len=250, freq=1000):\n",
      "    #bits = np.hstack((np.zeros(5),1,nbits))\n",
      "    bits = nbits\n",
      "    ext = np.array(np.hstack([np.ones(250) * bit for bit in bits]))\n",
      "    ext = (ext - .5)*2\n",
      "    ext = np.hstack((np.zeros(7*symbol_len),1,ext,np.zeros(7*symbol_len)))\n",
      "    \n",
      "    ts = np.arange(0, len(ext)/float(rate), 1.0/float(rate))\n",
      "    \n",
      "    return np.cos(2*np.pi*freq*ts) * 8500 * ext"
     ],
     "language": "python",
     "metadata": {},
     "outputs": [],
     "prompt_number": 5
    },
    {
     "cell_type": "code",
     "collapsed": false,
     "input": [
      "def decode_bpsk_sig(sig, rate=8820, symbol_len=250, freq=1000):\n",
      "    ts = np.arange(0, len(sig)/float(rate), 1/float(rate))\n",
      "    w_c = 150 * np.pi * 2\n",
      "    \n",
      "    LPF = (1/np.pi) * np.sinc(w_c*ts/np.pi)\n",
      "    \n",
      "    sigs = []\n",
      "    for phi in np.linspace(-np.pi/2.0, np.pi/2.0, 16):\n",
      "        sigs.append(sig*np.cos(2*np.pi*freq*ts + phi))\n",
      "    \n",
      "    sig1 = sigs[np.argmax(np.array([np.max(abs(each_sig)) for each_sig in sigs]))]\n",
      "    mplib.plot(sig1)\n",
      "    mplib.show()\n",
      "    \n",
      "    sig2 = np.convolve(sig1, LPF)\n",
      "    \n",
      "    start, end = find_start_and_end(sig2)\n",
      "    sig3 = sig2[start:end]\n",
      "    \n",
      "    sig4 = sig3>0\n",
      "    bit01 = int(sig4[0]/2.0 + 0.5)\n",
      "    inv_bit01 = 1-bit01\n",
      "    \n",
      "    sig5 = [sig4[symbol_len*i+int(0.1*symbol_len)] for i in range(len(sig4)/symbol_len)]\n",
      "    sig5 = [1 if i else 0 for i in sig5]\n",
      "    sig5 = np.array(sig5)\n",
      "    \n",
      "    sig5 = (sig5+inv_bit01)%2\n",
      "    \n",
      "    return sig5"
     ],
     "language": "python",
     "metadata": {},
     "outputs": [],
     "prompt_number": 6
    },
    {
     "cell_type": "code",
     "collapsed": false,
     "input": [
      "def play_samples(x, rate=8000, chunk_size = 1000):\n",
      "    p = pyaudio.PyAudio()\n",
      "    stream = p.open(format= pyaudio.paInt16, channels=1, rate=rate,\n",
      "        input=False, output=True,\n",
      "        frames_per_buffer=len(x))\n",
      "    stream.write(x.astype(np.int16).tostring())\n",
      "    stream.stop_stream()\n",
      "    stream.close()\n",
      "    p.terminate()"
     ],
     "language": "python",
     "metadata": {},
     "outputs": [],
     "prompt_number": 7
    },
    {
     "cell_type": "code",
     "collapsed": false,
     "input": [
      "bits = string2NPArray('Hello')\n",
      "old_x = gen_bpsk_sig(bits)\n",
      "rate = 8820\n",
      "time = np.arange(0, len(old_x)/float(rate), 1/float(rate))\n",
      "mplib.plot(time, old_x)\n",
      "mplib.show()"
     ],
     "language": "python",
     "metadata": {},
     "outputs": [
      {
       "metadata": {},
       "output_type": "display_data",
       "png": "[encoded data removed]",
       "text": [
        "<matplotlib.figure.Figure at 0x9d3cc50>"
       ]
      }
     ],
     "prompt_number": 8
    },
    {
     "cell_type": "markdown",
     "metadata": {},
     "source": [
      "This is the encoding signal of \"Hello\", which is actually a wave that starts and ends at 0 with square-wave like oscillations between -8500 and 8500 multiplied by a a cosine of a given frequency (1000 Hz in this case). The zeros at the beginning and end are used to help identify the beginning and end of the signal. There is also a single 1 bit before the signal starts to aid synchronizing. That is, if I know that the first bit is supposed to be 1, but is -1 because of the phase offset, I can invert all the bits and get the correct message."
     ]
    },
    {
     "cell_type": "code",
     "collapsed": false,
     "input": [
      "mplib.plot(time, old_x)\n",
      "mplib.axis([0.19, 0.30, -10000, 10000])\n",
      "mplib.show()"
     ],
     "language": "python",
     "metadata": {},
     "outputs": [
      {
       "metadata": {},
       "output_type": "display_data",
       "png": "[encoded data removed]",
       "text": [
        "<matplotlib.figure.Figure at 0x9ee3518>"
       ]
      }
     ],
     "prompt_number": 9
    },
    {
     "cell_type": "markdown",
     "metadata": {},
     "source": [
      "In this figure (still plotting the encoding signal), you can see the discontinuities in the cosine signal. This is where the bit changes from 0 to 1 or from 1 to 0. One bit lasts for 250 elements in this case. That means, at a rate of 8280, one bit lasts for $\\frac{250}{8280} \\approx 0.30 sec$."
     ]
    },
    {
     "cell_type": "code",
     "collapsed": false,
     "input": [
      "y = decode_bpsk_sig(old_x)\n",
      "print y"
     ],
     "language": "python",
     "metadata": {},
     "outputs": [
      {
       "metadata": {},
       "output_type": "display_data",
       "png": "[encoded data removed]",
       "text": [
        "<matplotlib.figure.Figure at 0xa8a30b8>"
       ]
      },
      {
       "output_type": "stream",
       "stream": "stdout",
       "text": [
        "[1 0 0 1 0 0 0 1 1 0 0 1 0 1 1 1 0 1 1 0 0 1 1 0 1 1 0 0 1 1 0 1 1 1 1]\n"
       ]
      }
     ],
     "prompt_number": 10
    },
    {
     "cell_type": "markdown",
     "metadata": {},
     "source": [
      "In this case, the data from the signal produced is passed through to the function (no microphone is used) just to get the data. The signal is multiplied by 16 types of $\\cos(2\\pi\\omega_c f + \\phi)$ where $\\phi$ changes between $-\\frac{\\pi}{2}$ and $\\frac{\\pi}{2}$ (spaced evenly). The one which results in the strongest signal (the highest high or the lowest low of the multiplied signal is the highest high or the lowest low of all the signals). This strongest signal, which is plotted above, is then convolved with a sinc (low-pass filtered) because the square-wave like signal that we are interested in is still oscillating with a cosine at the encoding frequency. After various thresholding procedures to recover the bits, the output bitstream is produced and printed above."
     ]
    },
    {
     "cell_type": "code",
     "collapsed": false,
     "input": [
      "print NPbits2String(y.astype(int));"
     ],
     "language": "python",
     "metadata": {},
     "outputs": [
      {
       "output_type": "stream",
       "stream": "stdout",
       "text": [
        "Hello\n"
       ]
      }
     ],
     "prompt_number": 11
    },
    {
     "cell_type": "markdown",
     "metadata": {},
     "source": [
      "The decoding worked as that bitstream is the orignal message."
     ]
    },
    {
     "cell_type": "code",
     "collapsed": false,
     "input": [
      "play_samples(old_x, rate=8820, chunk_size = 1000)"
     ],
     "language": "python",
     "metadata": {},
     "outputs": [],
     "prompt_number": 46
    },
    {
     "cell_type": "markdown",
     "metadata": {},
     "source": [
      "Before running the next box, please face the laptop (or sound playing device) toward the microphone of the laptop."
     ]
    },
    {
     "cell_type": "code",
     "collapsed": false,
     "input": [
      "import bpsk\n",
      "\n",
      "# get samples from the mic\n",
      "x = get_samples_from_mic(sample_rate = 8820, threshold = 7000, chunk_size = 1000)\n",
      "\n",
      "# decode received signal into a numpy array of bits\n",
      "bits = decode_bpsk_sig(x, freq=1000, rate = 8820, symbol_len = 250)\n",
      "\n",
      "# convert the numpy array of bits into a string\n",
      "bit_string = NPbits2String(bits)\n",
      "\n",
      "# print the decoded string\n",
      "print bit_string"
     ],
     "language": "python",
     "metadata": {},
     "outputs": [
      {
       "metadata": {},
       "output_type": "display_data",
       "png": "[encoded data removed]",
       "text": [
        "<matplotlib.figure.Figure at 0xa8975f8>"
       ]
      },
      {
       "output_type": "stream",
       "stream": "stdout",
       "text": [
        "Hello\n"
       ]
      }
     ],
     "prompt_number": 12
    },
    {
     "cell_type": "markdown",
     "metadata": {},
     "source": [
      "The recorded signal after multiplying by a cosine with a phase offset that yielded the highest amplitude is shown and the converted bitstream to characters matches the one used to generate the encoded signal. Proof that it worked!"
     ]
    }
   ],
   "metadata": {}
  }
 ]
}